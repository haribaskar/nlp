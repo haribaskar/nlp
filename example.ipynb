{
 "cells": [
  {
   "cell_type": "code",
   "execution_count": 6,
   "metadata": {
    "collapsed": true
   },
   "outputs": [],
   "source": [
    "#import necessary packages\n",
    "from nltk.tokenize import word_tokenize,sent_tokenize\n",
    "from nltk.corpus import stopwords\n",
    "from string import punctuation\n",
    "from nltk.collocations import BigramAssocMeasures,BigramCollocationFinder\n",
    "from nltk.corpus import wordnet as wn\n",
    "from nltk.stem.lancaster import LancasterStemmer\n",
    "from nltk import pos_tag\n",
    "from nltk.wsd import lesk"
   ]
  },
  {
   "cell_type": "code",
   "execution_count": 7,
   "metadata": {},
   "outputs": [
    {
     "name": "stdout",
     "output_type": "stream",
     "text": [
      "['nowadays people know the price of everything and the value of nothing']\n",
      "[['nowadays', 'people', 'know', 'the', 'price', 'of', 'everything', 'and', 'the', 'value', 'of', 'nothing']]\n"
     ]
    }
   ],
   "source": [
    "text=\"All that we are is the result of what we have thought.The mind is everything. What we think we become.\"\n",
    "sents=sent_tokenize(text)\n",
    "print(sents)\n",
    "words=[word_tokenize(sent) for sent in sents]\n",
    "print(words)"
   ]
  },
  {
   "cell_type": "code",
   "execution_count": 8,
   "metadata": {},
   "outputs": [
    {
     "name": "stdout",
     "output_type": "stream",
     "text": [
      "['nowadays', 'people', 'know', 'price', 'everything', 'value', 'nothing']\n"
     ]
    }
   ],
   "source": [
    "#stopwords removal\n",
    "customStopWords=set(stopwords.words('english')+list(punctuation))\n",
    "wordsWOStopwords=[word for word in word_tokenize(text) if word not in customStopWords]\n",
    "print(wordsWOStopwords)"
   ]
  },
  {
   "cell_type": "code",
   "execution_count": 9,
   "metadata": {},
   "outputs": [
    {
     "name": "stdout",
     "output_type": "stream",
     "text": [
      "[(('everything', 'value'), 1), (('know', 'price'), 1), (('nowadays', 'people'), 1), (('people', 'know'), 1), (('price', 'everything'), 1), (('value', 'nothing'), 1)]\n"
     ]
    }
   ],
   "source": [
    "#identify bigrams\n",
    "bigram_measures=BigramAssocMeasures()\n",
    "finder=BigramCollocationFinder.from_words(wordsWOStopwords)\n",
    "print(sorted(finder.ngram_fd.items()))"
   ]
  },
  {
   "cell_type": "code",
   "execution_count": 15,
   "metadata": {},
   "outputs": [
    {
     "name": "stdout",
     "output_type": "stream",
     "text": [
      "Synset('mind.n.01') that which is responsible for one's thoughts and feelings; the seat of the faculty of reason\n",
      "Synset('mind.n.02') recall or remembrance\n",
      "Synset('judgment.n.01') an opinion formed by judging something\n",
      "Synset('thinker.n.01') an important intellectual\n",
      "Synset('mind.n.05') attention\n",
      "Synset('mind.n.06') your intention; what you intend to do\n",
      "Synset('mind.n.07') knowledge and intellectual ability\n",
      "Synset('mind.v.01') be offended or bothered by; take offense with, be bothered by\n",
      "Synset('mind.v.02') be concerned with or about something or somebody\n",
      "Synset('take_care.v.02') be in charge of or deal with\n",
      "Synset('heed.v.01') pay close attention to; give heed to\n",
      "Synset('beware.v.01') be on one's guard; be cautious or wary about; be alert to\n",
      "Synset('mind.v.06') keep in mind\n",
      "Synset('habit.v.01') put a habit on\n",
      "Synset('take_care.v.02') be in charge of or deal with\n"
     ]
    }
   ],
   "source": [
    "#word sense disambiguation\n",
    "for ss in wn.synsets('mind'):\n",
    "    print(ss,ss.definition())\n",
    "\n",
    "sense1=lesk(word_tokenize(\"We are what we repeatedly do. Excellence, then, is not an act, but a habit.\"),'habit')\n",
    "print(sense1,sense1.definition())\n",
    "\n",
    "sense2=lesk(word_tokenize(\"The mind moves in the direction of our currently dominating thought.\"),'mind')\n",
    "print(sense2,sense2.definition())\n"
   ]
  },
  {
   "cell_type": "code",
   "execution_count": 11,
   "metadata": {},
   "outputs": [
    {
     "name": "stdout",
     "output_type": "stream",
     "text": [
      "['the', 'goal', 'is', \"n't\", 'to', 'liv', 'forev', ',', 'the', 'goal', 'is', 'to', 'cre', 'someth']\n"
     ]
    },
    {
     "data": {
      "text/plain": [
       "[('The', 'DT'),\n",
       " ('goal', 'NN'),\n",
       " ('is', 'VBZ'),\n",
       " (\"n't\", 'RB'),\n",
       " ('to', 'TO'),\n",
       " ('live', 'VB'),\n",
       " ('forever', 'RB'),\n",
       " (',', ','),\n",
       " ('the', 'DT'),\n",
       " ('goal', 'NN'),\n",
       " ('is', 'VBZ'),\n",
       " ('to', 'TO'),\n",
       " ('create', 'VB'),\n",
       " ('something', 'NN')]"
      ]
     },
     "execution_count": 11,
     "metadata": {},
     "output_type": "execute_result"
    }
   ],
   "source": [
    "text2=\"The goal isn't to live forever,the goal is to create something\"\n",
    "\n",
    "st=LancasterStemmer()\n",
    "stemmedWords=[st.stem(word) for word in word_tokenize(text2)]\n",
    "print(stemmedWords)\n",
    "pos_tag(word_tokenize(text2))"
   ]
  }
 ],
 "metadata": {
  "kernelspec": {
   "display_name": "Python 3",
   "language": "python",
   "name": "python3"
  },
  "language_info": {
   "codemirror_mode": {
    "name": "ipython",
    "version": 3
   },
   "file_extension": ".py",
   "mimetype": "text/x-python",
   "name": "python",
   "nbconvert_exporter": "python",
   "pygments_lexer": "ipython3",
   "version": "3.6.2"
  }
 },
 "nbformat": 4,
 "nbformat_minor": 2
}
